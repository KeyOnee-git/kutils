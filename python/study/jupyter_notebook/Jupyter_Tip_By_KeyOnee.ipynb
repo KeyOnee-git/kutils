{
 "cells": [
  {
   "cell_type": "markdown",
   "id": "9be48244",
   "metadata": {},
   "source": [
    "## 유용한 사이트 링크"
   ]
  },
  {
   "cell_type": "markdown",
   "id": "73887101",
   "metadata": {},
   "source": [
    "- 단축키 모음: https://towardsdatascience.com/jypyter-notebook-shortcuts-bf0101a98330\n",
    "\n",
    "##### Pandas Documents\n",
    "- https://pandas.pydata.org/docs/reference\n",
    "\n",
    "##### Matplotlib Documents\n",
    "- https://matplotlib.org/stable/tutorials/index.html\n",
    "- https://codetorial.net/matplotlib/basics.html"
   ]
  },
  {
   "cell_type": "markdown",
   "id": "024e6cff",
   "metadata": {},
   "source": [
    "## 유용한 단축키 모음\n",
    "\n",
    "#### EditMode\n",
    "- ESC : Command모드로 변경(실행 안함)\n",
    "- Ctrl + Enter : 현재 Cell 바로 실행\n",
    "- Shift + Enter: 현재 Cell 바로 실행 후 아래 Cell 선택\n",
    "- Alt + Enter: 현재 Cell 바로 실행 후 아래 Cell 새로 추가\n",
    "- Ctrl + S : 체크포인트 저장\n",
    "\n",
    "#### CommandMode\n",
    "- M : Markdown Cell로 변경\n",
    "- DD : 선택한 Cell 삭제"
   ]
  },
  {
   "attachments": {
    "image-2.png": {
     "image/png": "[encoded data removed]"
    },
    "image.png": {
     "image/png": "[encoded data removed]"
    }
   },
   "cell_type": "markdown",
   "id": "6d73b3b0",
   "metadata": {},
   "source": [
    "선택된 Cell앞의 색상으로 구분 \n",
    "- CommandMode\n",
    "![image.png](attachment:image.png)\n",
    "- EditMode\n",
    "![image-2.png](attachment:image-2.png)"
   ]
  },
  {
   "cell_type": "markdown",
   "id": "49a08560",
   "metadata": {},
   "source": [
    "### PANDAS - DataFrame 조작"
   ]
  },
  {
   "cell_type": "code",
   "execution_count": 4,
   "id": "a74ffdc6",
   "metadata": {},
   "outputs": [],
   "source": [
    "# import Library\n",
    "import numpy as np\n",
    "import pandas as pd"
   ]
  },
  {
   "cell_type": "code",
   "execution_count": 8,
   "id": "1fa1dc5e",
   "metadata": {},
   "outputs": [
    {
     "data": {
      "text/html": [
       "<div>\n",
       "<style scoped>\n",
       "    .dataframe tbody tr th:only-of-type {\n",
       "        vertical-align: middle;\n",
       "    }\n",
       "\n",
       "    .dataframe tbody tr th {\n",
       "        vertical-align: top;\n",
       "    }\n",
       "\n",
       "    .dataframe thead th {\n",
       "        text-align: right;\n",
       "    }\n",
       "</style>\n",
       "<table border=\"1\" class=\"dataframe\">\n",
       "  <thead>\n",
       "    <tr style=\"text-align: right;\">\n",
       "      <th></th>\n",
       "      <th>name</th>\n",
       "      <th>percentage</th>\n",
       "      <th>grade</th>\n",
       "    </tr>\n",
       "  </thead>\n",
       "  <tbody>\n",
       "    <tr>\n",
       "      <th>0</th>\n",
       "      <td>Alice</td>\n",
       "      <td>90</td>\n",
       "      <td>88.0</td>\n",
       "    </tr>\n",
       "    <tr>\n",
       "      <th>1</th>\n",
       "      <td>Betty</td>\n",
       "      <td>55</td>\n",
       "      <td>NaN</td>\n",
       "    </tr>\n",
       "    <tr>\n",
       "      <th>2</th>\n",
       "      <td>Challie</td>\n",
       "      <td>66</td>\n",
       "      <td>95.0</td>\n",
       "    </tr>\n",
       "    <tr>\n",
       "      <th>3</th>\n",
       "      <td>Diago</td>\n",
       "      <td>82</td>\n",
       "      <td>NaN</td>\n",
       "    </tr>\n",
       "    <tr>\n",
       "      <th>4</th>\n",
       "      <td>Elon</td>\n",
       "      <td>45</td>\n",
       "      <td>71.0</td>\n",
       "    </tr>\n",
       "    <tr>\n",
       "      <th>5</th>\n",
       "      <td>Frestine</td>\n",
       "      <td>37</td>\n",
       "      <td>NaN</td>\n",
       "    </tr>\n",
       "  </tbody>\n",
       "</table>\n",
       "</div>"
      ],
      "text/plain": [
       "       name  percentage  grade\n",
       "0     Alice          90   88.0\n",
       "1     Betty          55    NaN\n",
       "2   Challie          66   95.0\n",
       "3     Diago          82    NaN\n",
       "4      Elon          45   71.0\n",
       "5  Frestine          37    NaN"
      ]
     },
     "execution_count": 8,
     "metadata": {},
     "output_type": "execute_result"
    }
   ],
   "source": [
    "# 임시 데이터 삽입 방식 1.\n",
    "data = { 'name': ['Alice', 'Betty', 'Challie', 'Diago', 'Elon', 'Frestine'], \n",
    "            'percentage': [90, 55, 66, 82, 45, 37],\n",
    "            'grade': [ 88, np.nan, 95, np.nan, 71, np.nan]}\n",
    "\n",
    "df = pd.DataFrame(data)\n",
    "df"
   ]
  },
  {
   "cell_type": "code",
   "execution_count": 11,
   "id": "783fd0b2",
   "metadata": {},
   "outputs": [
    {
     "data": {
      "text/html": [
       "<div>\n",
       "<style scoped>\n",
       "    .dataframe tbody tr th:only-of-type {\n",
       "        vertical-align: middle;\n",
       "    }\n",
       "\n",
       "    .dataframe tbody tr th {\n",
       "        vertical-align: top;\n",
       "    }\n",
       "\n",
       "    .dataframe thead th {\n",
       "        text-align: right;\n",
       "    }\n",
       "</style>\n",
       "<table border=\"1\" class=\"dataframe\">\n",
       "  <thead>\n",
       "    <tr style=\"text-align: right;\">\n",
       "      <th></th>\n",
       "      <th>name</th>\n",
       "      <th>percentage</th>\n",
       "      <th>grade</th>\n",
       "    </tr>\n",
       "  </thead>\n",
       "  <tbody>\n",
       "    <tr>\n",
       "      <th>0</th>\n",
       "      <td>Alice</td>\n",
       "      <td>90</td>\n",
       "      <td>88.0</td>\n",
       "    </tr>\n",
       "    <tr>\n",
       "      <th>1</th>\n",
       "      <td>Betty</td>\n",
       "      <td>55</td>\n",
       "      <td>0.0</td>\n",
       "    </tr>\n",
       "    <tr>\n",
       "      <th>2</th>\n",
       "      <td>Challie</td>\n",
       "      <td>66</td>\n",
       "      <td>95.0</td>\n",
       "    </tr>\n",
       "    <tr>\n",
       "      <th>3</th>\n",
       "      <td>Diago</td>\n",
       "      <td>82</td>\n",
       "      <td>0.0</td>\n",
       "    </tr>\n",
       "    <tr>\n",
       "      <th>4</th>\n",
       "      <td>Elon</td>\n",
       "      <td>45</td>\n",
       "      <td>71.0</td>\n",
       "    </tr>\n",
       "    <tr>\n",
       "      <th>5</th>\n",
       "      <td>Frestine</td>\n",
       "      <td>37</td>\n",
       "      <td>0.0</td>\n",
       "    </tr>\n",
       "  </tbody>\n",
       "</table>\n",
       "</div>"
      ],
      "text/plain": [
       "       name  percentage  grade\n",
       "0     Alice          90   88.0\n",
       "1     Betty          55    0.0\n",
       "2   Challie          66   95.0\n",
       "3     Diago          82    0.0\n",
       "4      Elon          45   71.0\n",
       "5  Frestine          37    0.0"
      ]
     },
     "execution_count": 11,
     "metadata": {},
     "output_type": "execute_result"
    }
   ],
   "source": [
    "# NaN값을 0으로 채우기\n",
    "df_nan0 =  df.fillna(0)\n",
    "df_nan0"
   ]
  }
 ],
 "metadata": {
  "kernelspec": {
   "display_name": "Python 3 (ipykernel)",
   "language": "python",
   "name": "python3"
  },
  "language_info": {
   "codemirror_mode": {
    "name": "ipython",
    "version": 3
   },
   "file_extension": ".py",
   "mimetype": "text/x-python",
   "name": "python",
   "nbconvert_exporter": "python",
   "pygments_lexer": "ipython3",
   "version": "3.9.12"
  }
 },
 "nbformat": 4,
 "nbformat_minor": 5
}
